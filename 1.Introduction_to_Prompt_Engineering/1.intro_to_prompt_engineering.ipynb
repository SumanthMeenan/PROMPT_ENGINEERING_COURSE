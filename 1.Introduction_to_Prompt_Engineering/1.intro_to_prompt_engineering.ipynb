{
 "cells": [
  {
   "cell_type": "markdown",
   "metadata": {},
   "source": [
    "Why Prompt Engineering ? <br>\n",
    "It enable users to fine-tune AI outputs, optimize response quality, and solve complex problems effectively. <br>\n",
    "\n",
    "Framework Used: LangChain <br>\n",
    "https://python.langchain.com/docs/versions/v0_3/ <br>\n",
    "https://github.com/langchain-ai/langchain "
   ]
  },
  {
   "cell_type": "code",
   "execution_count": null,
   "metadata": {},
   "outputs": [],
   "source": [
    "!pip install langchain-openai==0.3.1 langchain==0.3.2 python-dotenv==1.0.1"
   ]
  },
  {
   "cell_type": "markdown",
   "metadata": {},
   "source": [
    "Import Libraries"
   ]
  },
  {
   "cell_type": "code",
   "execution_count": 17,
   "metadata": {},
   "outputs": [],
   "source": [
    "import os  \n",
    "from langchain_openai import ChatOpenAI \n",
    "from langchain.prompts import PromptTemplate\n",
    "from langchain.chains import LLMChain\n",
    "from dotenv import load_dotenv\n",
    "load_dotenv()\n",
    "\n",
    "# Add your OPENAI_API_KEY in .env file\n",
    "os.environ[\"OPENAI_API_KEY\"] = os.getenv('OPENAI_API_KEY')\n",
    "llm_model = ChatOpenAI(model=\"gpt-4\", openai_api_key=os.getenv('OPENAI_API_KEY'))"
   ]
  },
  {
   "cell_type": "markdown",
   "metadata": {},
   "source": [
    "ChatOpenAI Models: <br>\n",
    "\n",
    "gpt-4 <br>\n",
    "gpt-4o-mini <br>\n",
    "gpt-3.5-turbo-0613 <br>\n",
    "gpt-3.5-turbo-0125 <br>\n",
    "gpt-3.5-turbo --> short context model <br>\n",
    "gpt-3.5-turbo-16k --> long context model <br>"
   ]
  },
  {
   "cell_type": "markdown",
   "metadata": {},
   "source": [
    "<p> Basic Prompt <p>"
   ]
  },
  {
   "cell_type": "code",
   "execution_count": 16,
   "metadata": {},
   "outputs": [
    {
     "name": "stdout",
     "output_type": "stream",
     "text": [
      "Mediterranean cuisine predominantly features fruits, vegetables, whole grains, legumes, seafood, olive oil, and moderate amounts of wine, often spiced with flavors like garlic, lemon, and fresh herbs.\n"
     ]
    }
   ],
   "source": [
    "basic_prompt = \"Describe the key elements of Mediterranean cuisine in one sentence.\"\n",
    "print(llm_model.invoke(basic_prompt).content)"
   ]
  },
  {
   "cell_type": "markdown",
   "metadata": {},
   "source": [
    "<p> Structured Prompt <p>"
   ]
  },
  {
   "cell_type": "code",
   "execution_count": 18,
   "metadata": {},
   "outputs": [
    {
     "name": "stderr",
     "output_type": "stream",
     "text": [
      "/var/folders/8q/56hqk80s6wqg86df2s7fz2qr0000gn/T/ipykernel_86090/3688819406.py:6: LangChainDeprecationWarning: The class `LLMChain` was deprecated in LangChain 0.1.17 and will be removed in 1.0. Use :meth:`~RunnableSequence, e.g., `prompt | llm`` instead.\n",
      "  llm_chain = LLMChain(prompt = structured_prompt, llm = llm_model)\n",
      "/var/folders/8q/56hqk80s6wqg86df2s7fz2qr0000gn/T/ipykernel_86090/3688819406.py:7: LangChainDeprecationWarning: The method `Chain.run` was deprecated in langchain 0.1.0 and will be removed in 1.0. Use :meth:`~invoke` instead.\n",
      "  llm_chain.run(food_type = \"Mediterranean\")\n"
     ]
    },
    {
     "data": {
      "text/plain": [
       "\"Mediterranean cuisine is a type of diet commonly practiced by people living in the Mediterranean region, including countries like Italy, Greece, Spain, and Turkey among others. It is characterized by high intake of fruits, vegetables, legumes, whole grains, and olive oil, moderate intake of fish, poultry, and wine, and low intake of dairy products, red and processed meats, and sweets.\\n\\nMediterranean cuisine is considered healthy due to its high nutritional value and the balance of ingredients it includes. It's rich in unsaturated fatty acids, dietary fiber, antioxidants, and essential micronutrients, all essential for optimal health and well-being. Also, it promotes heart health, as it is low in saturated fats and high in monounsaturated fats and dietary fiber.\\n\\nThree key advantages of incorporating Mediterranean cuisine into your diet are:\\n\\n1. Cardiovascular Health: The high presence of monounsaturated fats, particularly olive oil, contributes to heart health by reducing harmful cholesterol levels, controlling blood pressure, and decreasing risk of heart disease.\\n\\n2. Improved Digestive Health: The high fiber content found in whole grains, fruits, vegetables, and legumes promotes a healthy digestive system and prevents conditions like constipation and diverticular disease.\\n\\n3. Weight Control: With portion control and regular physical activity, the Mediterranean diet can help maintain a healthy weight or lose unwanted pounds, as it includes high fiber foods that can make you feel satiated, thus preventing overeating. It also avoids processed foods and sugars, which are common contributors to weight gain.\""
      ]
     },
     "execution_count": 18,
     "metadata": {},
     "output_type": "execute_result"
    }
   ],
   "source": [
    "structured_prompt = PromptTemplate(\n",
    "    input_variables= [\"food_type\"],\n",
    "    template= \"Describe what {food_type} cuisine is, why it's considered healthy, and highlight three key advantages of incorporating it into your diet.\"\n",
    ")\n",
    "\n",
    "llm_chain = LLMChain(prompt = structured_prompt, llm = llm_model)\n",
    "llm_chain.run(food_type = \"Mediterranean\")\n",
    "\n",
    "\n"
   ]
  },
  {
   "cell_type": "markdown",
   "metadata": {},
   "source": [
    "Structured Prompt - Usage 2"
   ]
  },
  {
   "cell_type": "code",
   "execution_count": 19,
   "metadata": {},
   "outputs": [
    {
     "data": {
      "text/plain": [
       "'Mediterranean cuisine is a style of cooking that predominantly originates from the countries surrounding the Mediterranean Sea, including Italy, Greece, Spain, Lebanon, Morocco, and others. This type of cuisine is characterized by its use of fresh, whole food ingredients like fruits and vegetables, lean proteins, whole grains, and healthy fats such as olive oil and nuts. Seafood, legumes, and a moderate amount of wine are also staple elements of this diet.\\n\\nMediterranean cuisine is often considered as one of the healthiest styles of eating due to its emphasis on nutrient-dense foods and low intake of red meat, sugary foods, and saturated fats. It has been extensively studied and is associated with numerous health benefits.\\n\\nIncorporating Mediterranean cuisine into your diet can bring several advantages, including:\\n\\n1. Heart Health: The high levels of monounsaturated fats, primarily from olive oil, are associated with better heart health. The diet also includes a good amount of fish rich in omega-3 fatty acids, which are known to benefit heart health by reducing inflammation and slowing the rate of plaque growth in arteries.\\n\\n2. Disease Prevention: Mediterranean cuisine is rich in fiber and antioxidants from fruits, vegetables, legumes, and whole grains. These nutrients can support digestive health, help reduce inflammation, and combat harmful free radicals, leading to decreased risks of chronic diseases like cancer and Type 2 diabetes.\\n\\n3. Weight Management: The emphasis on plant-based, whole foods and lean proteins in Mediterranean cuisine can help with weight management by promoting feelings of fullness, regulating blood sugars, and reducing overeating. Additionally, the relatively low intake of red meat and sugary foods can help to limit excess calorie intake. \\n\\nIn addition to health benefits, the Mediterranean diet also promotes sustainability as it encourages local, fresh produce and reduces the overall environmental impact associated with meat-based diets.'"
      ]
     },
     "execution_count": 19,
     "metadata": {},
     "output_type": "execute_result"
    }
   ],
   "source": [
    "\n",
    "# combining prompt template with llm\n",
    "llm_chain_new = structured_prompt | llm_model  \n",
    "\n",
    "input_params = {\"food_type\":\"Mediterranean\"}\n",
    "llm_chain_new.invoke(input_params).content "
   ]
  },
  {
   "cell_type": "markdown",
   "metadata": {},
   "source": [
    "Different Prompts on Same Topic "
   ]
  },
  {
   "cell_type": "code",
   "execution_count": 21,
   "metadata": {},
   "outputs": [],
   "source": [
    "prompts = [\n",
    "    \"List 3 health benefits of following a Mediterranean diet.\",\n",
    "    \"Explain how Mediterranean cuisine promotes heart health, with 3 specific examples.\",\n",
    "    \"You are a chef. Describe 3 Mediterranean dishes you recommend for a balanced diet.\",\n",
    "    \"How does Mediterranean food incorporate fresh ingredients? Provide 3 examples.\",\n",
    "    \"Describe 3 cultural influences that shape Mediterranean cuisine.\"\n",
    "]\n"
   ]
  },
  {
   "cell_type": "code",
   "execution_count": 23,
   "metadata": {},
   "outputs": [
    {
     "name": "stdout",
     "output_type": "stream",
     "text": [
      "Prompt 1:\n",
      "List 3 health benefits of following a Mediterranean diet.\n",
      "\n",
      "Response:\n",
      "1. Reduced Risk of Heart Disease: The Mediterranean diet is high in fruits, vegetables, whole grains, and healthy fats from fish and olive oil, all of which promote heart health. Research has shown that this diet can lower the risk of heart disease and stroke.\n",
      "\n",
      "2. Weight Loss: Because of its emphasis on whole foods and healthy fats, the Mediterranean diet can help you achieve and maintain a healthy weight.\n",
      "\n",
      "3. Diabetes Control and Prevention: The Mediterranean diet can help regulate blood sugar and prevent or manage diabetes, due to its focus on balanced, low-glycemic meals.\n",
      "--------------------------------------------------\n",
      "Prompt 2:\n",
      "Explain how Mediterranean cuisine promotes heart health, with 3 specific examples.\n",
      "\n",
      "Response:\n",
      "Mediterranean cuisine is often cited as one of the healthiest diets in the world due to its focus on whole foods, healthy fats, lean protein, and lots of fruits and vegetables. Here are three ways in which it promotes heart health:\n",
      "\n",
      "1. High in Healthy Fats: Traditional Mediterranean diets are high in heart-healthy fats from olive oil and nuts. Olive oil contains monounsaturated fats, which can help lower the levels of \"bad\" LDL cholesterol and increase \"good\" HDL cholesterol. Meanwhile, nuts like almonds, walnuts, and pistachios are good sources of unsaturated fats and omega-3 fatty acids, which are both beneficial for heart health.\n",
      "\n",
      "2. Contains Omega-3 Fatty Acids: One of the staples of the Mediterranean diet is fish, particularly fatty fish like salmon, mackerel, and sardines that are high in omega-3 fatty acids. Omega-3s can reduce inflammation in the body, decrease triglycerides, lower blood pressure, reduce blood clotting, decrease stroke and heart failure risk, and reduce irregular heartbeats.\n",
      "\n",
      "3. High in Fruits and Vegetables: The Mediterranean diet encourages high consumption of fruits and vegetables, which are rich in dietary fiber, antioxidants, and various other nutrients. These can help to lower blood pressure, protect your arteries, stop the development of plaque in your arteries, and reduce the risk of heart disease. Examples include leafy greens, tomatoes, bell peppers, oranges, and berries.\n",
      "--------------------------------------------------\n",
      "Prompt 3:\n",
      "You are a chef. Describe 3 Mediterranean dishes you recommend for a balanced diet.\n",
      "\n",
      "Response:\n",
      "1. Greek Salad: This is a simple yet nutritious Mediterranean dish. Greek salad is a great source of vitamins with its colorful medley of ripe tomatoes, cucumbers, red onions, bell peppers, black olives, and feta cheese. All these ingredients are rich in fiber and antioxidants, contributing to heart health. The topping of high-quality olive oil and a squeeze of fresh lemon juice provide healthy fats and a vitamin C boost. The dish is crunchy, refreshing, and savory, making it a perfect starter or light meal.\n",
      "\n",
      "2. Grilled Sea Bass with Lemon and Herbs: Seafood is a fundamental element of the Mediterranean diet and sea bass is no exception. It's not only a great source of lean protein but also rich in Omega-3 fatty acids which are good for the heart. The fish is seasoned with a mixture of fresh herbs like rosemary, thyme, and parsley, enhancing its natural flavor. A generous squeeze of lemon juice not only adds a tangy twist but also aids in the absorption of iron from the bass. Served with a side of grilled vegetables or couscous, this dish is truly a nutritious, balanced meal that's delicious and satisfying.\n",
      "\n",
      "3. Tabbouleh: This is a flavorful, refreshing, and highly nutritious Lebanese salad that fits perfectly into a balanced diet. The main ingredient is bulgur wheat, a whole grain that's high in fiber and protein. The salad also includes fresh parsley, mint, tomato, cucumber, and is dressed with lemon juice and olive oil. These combine to provide a wide array of vitamins, minerals, and antioxidants. Extremely low in fat, this dish is heart-friendly, aids in digestion, and contributes to overall health and wellness. Tabbouleh works well as an appetizer, side dish, or even a light main course.\n",
      "--------------------------------------------------\n",
      "Prompt 4:\n",
      "How does Mediterranean food incorporate fresh ingredients? Provide 3 examples.\n",
      "\n",
      "Response:\n",
      "1. Greek Salad: This traditional Mediterranean dish is a perfect example of how the cuisine incorporates fresh ingredients. It is made with freshly cut tomatoes, cucumbers, red onions, and bell peppers, all mixed with Kalamata olives and feta cheese. A Greek salad showcases the fresh, crisp vegetables that grow in abundance in the Mediterranean climate.\n",
      "\n",
      "2. Pesto Genovese: This classic Italian sauce is traditionally made with fresh basil leaves, pine nuts, garlic, parmesan cheese, and extra virgin olive oil. The bright, fresh flavor of the basil is the key component of this sauce, highlighting the use of aromatic herbs in Mediterranean cuisine.\n",
      "\n",
      "3. Tabbouleh: This popular Middle Eastern salad is another great example of the use of fresh ingredients in Mediterranean cooking. It is made with finely chopped fresh parsley and mint, mixed with tomatoes, onions, and bulgur, then seasoned with olive oil, lemon juice, salt, and pepper. This dish is a celebration of herbs, and it shows the commitment of Mediterranean cuisine to fresh and vibrant flavors. It's also worth noting that salads like this are typically served at room temperature, to allow the natural flavors of the ingredients to shine through.\n",
      "--------------------------------------------------\n",
      "Prompt 5:\n",
      "Describe 3 cultural influences that shape Mediterranean cuisine.\n",
      "\n",
      "Response:\n",
      "1. Ancient Civilizations: Mediterranean cuisine's roots can be traced back to ancient civilizations, including the Greeks, Romans, and Phoenicia. They left behind a rich tradition of agriculture, including olives and olive oil, spices, seafood, and grains that are still staple ingredients in the region's cuisine. This is why Greek, Italian, and Middle Eastern dishes are known for their simplicity, relying on high-quality fresh ingredients rather than heavy sauces or seasonings.\n",
      "\n",
      "2. Trade and Conquests: The Mediterranean region's strategic position has made it a hub for trade and conquests throughout history. This has brought in diverse culinary influences from various parts of the world. Ingredients like tomatoes, potatoes, and peppers were introduced from the New World, while spices, citrus fruits, and coffee came from the East. The Ottoman Empire, in particular, left a lasting impact on the cuisine of the region, popularizing dishes like kebabs and baklava.\n",
      "\n",
      "3. Religious and Ethnic Groups: Different religious and ethnic groups have influenced Mediterranean cuisine as well. Southern Spain's Moorish past has left a culinary legacy of stews and spice blends. The region also has influences from the Jewish community through dishes like kugel and challah. In addition, the religious practice of fasting in some religions, like Christianity and Islam, has shaped the cuisine by encouraging the consumption of certain types of foods while avoiding others at certain times.\n",
      "--------------------------------------------------\n"
     ]
    }
   ],
   "source": [
    "# Define a function to handle prompting and invoking the LLM\n",
    "def invoke_and_print(prompt, index):\n",
    "    print(f\"Prompt {index}:\\n{prompt}\")\n",
    "    response = llm_model.invoke(prompt)\n",
    "    print(\"\\nResponse:\")\n",
    "    print(response.content)\n",
    "    print(\"-\" * 50)\n",
    "\n",
    "# Manually invoke and print for each prompt\n",
    "invoke_and_print(prompts[0], 1)\n",
    "invoke_and_print(prompts[1], 2)\n",
    "invoke_and_print(prompts[2], 3)\n",
    "invoke_and_print(prompts[3], 4)\n",
    "invoke_and_print(prompts[4], 5)"
   ]
  },
  {
   "cell_type": "markdown",
   "metadata": {},
   "source": [
    "Fact Check "
   ]
  },
  {
   "cell_type": "code",
   "execution_count": 24,
   "metadata": {},
   "outputs": [
    {
     "data": {
      "text/plain": [
       "'The statement is incorrect. The full form of I.P.S is Indian Police Service.'"
      ]
     },
     "execution_count": 24,
     "metadata": {},
     "output_type": "execute_result"
    }
   ],
   "source": [
    "structured_prompt = PromptTemplate(\n",
    "    input_variables= [\"statement\"],\n",
    "    template= \"\"\"Verify the accuracy of the following statement. If it is incorrect, provide the correct information.\n",
    "    statement: {statement}\n",
    "    Evaluation:\n",
    "\"\"\"\n",
    ")\n",
    "\n",
    "llm_chain = LLMChain(prompt = structured_prompt, llm = llm_model)\n",
    "llm_chain.run(statement = \"Full form of I.P.S is Institute of political Science\")\n"
   ]
  },
  {
   "cell_type": "markdown",
   "metadata": {},
   "source": [
    "Solve complex problem step-by-step"
   ]
  },
  {
   "cell_type": "code",
   "execution_count": 25,
   "metadata": {},
   "outputs": [
    {
     "data": {
      "text/plain": [
       "\"First, calculate the total area of the larger square.\\n\\nThe total area is found by multiplying the length x width (or side x side, since it's a square). \\n\\n1300 cm * 1300 cm = 1,690,000 cm²\\n\\n2) \\nNext, calculate the total area of one of the smaller squares. \\n\\n3 cm * 3 cm = 9 cm²\\n\\n3) \\nFinally, divide the total area of the large square by the area of the small square to find how many small squares can fit within.\\n\\n1,690,000 cm² / 9 cm² = 188,000 small squares\\n\\nAnswer: A total of 188,000 squares of 3*3 cm can fit in a 1300 * 1300 cm square.\""
      ]
     },
     "execution_count": 25,
     "metadata": {},
     "output_type": "execute_result"
    }
   ],
   "source": [
    "structured_prompt = PromptTemplate(\n",
    "    input_variables= [\"problem\"],\n",
    "    template= \"\"\"Solve the following question step by step:\n",
    "Problem: {problem}\n",
    "Solution:\n",
    "1)\n",
    "\"\"\"\n",
    ")\n",
    "\n",
    "llm_chain = LLMChain(prompt = structured_prompt, llm = llm_model)\n",
    "llm_chain.run(problem = \"How many 3*3 cm size squares can fit in a 1300 * 1300 cm square\")\n"
   ]
  },
  {
   "cell_type": "code",
   "execution_count": null,
   "metadata": {},
   "outputs": [],
   "source": []
  }
 ],
 "metadata": {
  "kernelspec": {
   "display_name": "prompt_eng",
   "language": "python",
   "name": "python3"
  },
  "language_info": {
   "codemirror_mode": {
    "name": "ipython",
    "version": 3
   },
   "file_extension": ".py",
   "mimetype": "text/x-python",
   "name": "python",
   "nbconvert_exporter": "python",
   "pygments_lexer": "ipython3",
   "version": "3.13.0"
  }
 },
 "nbformat": 4,
 "nbformat_minor": 2
}
